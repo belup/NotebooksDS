{
  "nbformat": 4,
  "nbformat_minor": 0,
  "metadata": {
    "kernelspec": {
      "display_name": "Python 3",
      "language": "python",
      "name": "python3"
    },
    "language_info": {
      "codemirror_mode": {
        "name": "ipython",
        "version": 3
      },
      "file_extension": ".py",
      "mimetype": "text/x-python",
      "name": "python",
      "nbconvert_exporter": "python",
      "pygments_lexer": "ipython3",
      "version": "3.7.3"
    },
    "colab": {
      "provenance": []
    }
  },
  "cells": [
    {
      "cell_type": "markdown",
      "metadata": {
        "id": "Gp2WddtV9IwG"
      },
      "source": [
        "# Programa Ingenias+ Data Science"
      ]
    },
    {
      "cell_type": "markdown",
      "metadata": {
        "id": "X03mviQS9IyL"
      },
      "source": [
        "# Ejercicios\n",
        "\n",
        "1. Crear un arreglo de ceros de longitud 12\n",
        "2. Crear un arreglo de longitud 10 con ceros en todas sus posiciones y un 10 en la posición número 5\n",
        "3. Crear un arreglo que tenga los números del 10 al 49\n",
        "4. Crear una arreglo 2d de shape (3, 3) que tenga los números del 0 al 8\n",
        "5. Crear un arreglo de números aleatorios de longitud 100 y obtener su media y varianza\n",
        "6. Calcular la media de un arreglo usando np.sum\n",
        "7. Calcular la varianza de un arreglo usando np.sum y np.mean\n",
        "8. Crear un array de números aleatorios usando np.random.randn.\n"
      ]
    },
    {
      "cell_type": "code",
      "source": [
        "#Importar numpy\n",
        "import numpy as np"
      ],
      "metadata": {
        "id": "_Ml6ucHAe0dr"
      },
      "execution_count": null,
      "outputs": []
    },
    {
      "cell_type": "code",
      "source": [
        "#ejercicio 1\n",
        "# con el comando .zeros(n) realizo un arreglo de ceros de la longitudad deseada\n",
        "array_ceros = np.zeros(12)\n",
        "# luego lo imprimo y veo la longitud para corroborar que esté bien\n",
        "print(array_ceros)\n",
        "len(array_ceros)\n"
      ],
      "metadata": {
        "id": "bDHUnDG-e0TB",
        "colab": {
          "base_uri": "https://localhost:8080/"
        },
        "outputId": "71f4d332-b977-45d1-af11-19b22115705d"
      },
      "execution_count": null,
      "outputs": [
        {
          "output_type": "stream",
          "name": "stdout",
          "text": [
            "[0. 0. 0. 0. 0. 0. 0. 0. 0. 0. 0. 0.]\n"
          ]
        },
        {
          "output_type": "execute_result",
          "data": {
            "text/plain": [
              "12"
            ]
          },
          "metadata": {},
          "execution_count": 3
        }
      ]
    },
    {
      "cell_type": "code",
      "source": [
        "#ejercicio 2\n",
        "# creo el arreglo con el comando .zeros(n) y a la posición 5 le adjudico el\n",
        "# numero 10\n",
        "#obs: entiendo al enunciado como 5ta posición que queda como 6to numero\n",
        "#ya que en python se cuenta el 0\n",
        "array_ejdos = np.zeros(10)\n",
        "array_ejdos[5] = 10\n",
        "print(array_ejdos)\n"
      ],
      "metadata": {
        "id": "Cly9U6BDez8E",
        "colab": {
          "base_uri": "https://localhost:8080/"
        },
        "outputId": "57175522-d5d7-4666-f4c6-f3817feea6ed"
      },
      "execution_count": null,
      "outputs": [
        {
          "output_type": "stream",
          "name": "stdout",
          "text": [
            "[ 0.  0.  0.  0.  0. 10.  0.  0.  0.  0.]\n"
          ]
        }
      ]
    },
    {
      "cell_type": "code",
      "source": [
        "#ejercicio 3\n",
        "array_ejtres = np.arange(10,50)\n",
        "print(array_ejtres)\n"
      ],
      "metadata": {
        "colab": {
          "base_uri": "https://localhost:8080/"
        },
        "id": "xDAacL73gdan",
        "outputId": "8114d05b-a462-4583-c6d2-656365a141f0"
      },
      "execution_count": null,
      "outputs": [
        {
          "output_type": "stream",
          "name": "stdout",
          "text": [
            "[10 11 12 13 14 15 16 17 18 19 20 21 22 23 24 25 26 27 28 29 30 31 32 33\n",
            " 34 35 36 37 38 39 40 41 42 43 44 45 46 47 48 49]\n"
          ]
        }
      ]
    },
    {
      "cell_type": "code",
      "source": [
        "#ejercicio 4\n",
        "array_ejcuatro = np.arange(0,9).reshape(3,3)\n",
        "print(array_ejcuatro)"
      ],
      "metadata": {
        "id": "fmFP671tgwYB",
        "colab": {
          "base_uri": "https://localhost:8080/"
        },
        "outputId": "cf007b93-8f53-4e3b-897f-fdd6efeaea01"
      },
      "execution_count": null,
      "outputs": [
        {
          "output_type": "stream",
          "name": "stdout",
          "text": [
            "[[0 1 2]\n",
            " [3 4 5]\n",
            " [6 7 8]]\n"
          ]
        }
      ]
    },
    {
      "cell_type": "code",
      "source": [
        "#ejercicio 5\n",
        "array_ejcinco = np.random.rand(100)\n",
        "print(array_ejcinco)\n",
        "len(array_ejcinco)\n",
        "media = np.mean(array_ejcinco)\n",
        "print(media)\n",
        "varianza = np.var(array_ejcinco)\n",
        "print(varianza)"
      ],
      "metadata": {
        "colab": {
          "base_uri": "https://localhost:8080/"
        },
        "id": "ys3r2foPhTlK",
        "outputId": "1081e02c-ff37-4b8c-a051-7711bf8ff8ee"
      },
      "execution_count": null,
      "outputs": [
        {
          "output_type": "stream",
          "name": "stdout",
          "text": [
            "[3.54447975e-01 3.38494807e-01 3.21562253e-01 7.74319927e-01\n",
            " 1.25764166e-02 5.83989379e-01 8.68815577e-01 2.57822498e-01\n",
            " 7.07340192e-01 4.75753248e-01 5.92472421e-01 6.20795009e-01\n",
            " 6.44136416e-02 8.15432255e-01 9.90784406e-01 5.39905323e-01\n",
            " 7.81002449e-01 2.00741217e-02 4.92697973e-01 4.63953150e-01\n",
            " 1.99617969e-01 9.43871733e-01 6.04425653e-01 3.84380937e-01\n",
            " 7.86831462e-01 9.60165942e-01 3.52936789e-01 9.50463900e-01\n",
            " 1.46549198e-01 1.54378371e-01 8.71453352e-01 8.09953739e-01\n",
            " 6.53825105e-01 5.52160903e-01 9.35238716e-01 9.66465930e-01\n",
            " 2.03146779e-01 1.18551696e-02 7.22322283e-01 1.42319067e-01\n",
            " 4.28782605e-01 2.01390728e-01 8.86196471e-01 1.63573464e-01\n",
            " 7.65864277e-01 6.36921180e-01 9.05454373e-01 2.68311514e-01\n",
            " 4.70422568e-01 1.43362267e-01 4.51006351e-01 6.49250733e-01\n",
            " 3.97850243e-01 3.98193080e-02 5.45283089e-01 5.18880847e-02\n",
            " 1.83376024e-01 8.15632716e-01 8.61933245e-01 5.01777107e-01\n",
            " 6.41089103e-01 4.69882127e-01 9.83853115e-01 8.64149833e-02\n",
            " 1.87677919e-01 4.25052219e-02 3.99688313e-01 6.80946231e-01\n",
            " 6.63486318e-01 8.78083884e-01 5.39304628e-01 1.13474470e-01\n",
            " 9.89115206e-01 9.83572415e-01 4.74873919e-04 5.04257656e-02\n",
            " 1.24013411e-01 7.72061906e-01 9.34100963e-01 5.51322425e-02\n",
            " 1.31028450e-01 4.90546299e-01 9.33916252e-01 1.88548313e-01\n",
            " 2.09752838e-01 6.35467503e-01 6.62297674e-01 6.77555054e-01\n",
            " 1.78414384e-01 5.27927028e-02 1.81210029e-01 6.17871796e-03\n",
            " 1.20709638e-01 2.07169046e-01 9.19313481e-01 4.53506887e-01\n",
            " 7.19355532e-01 8.77136418e-01 2.69309107e-01 4.33169443e-01]\n",
            "0.48739793231473194\n",
            "0.09814504517726991\n"
          ]
        }
      ]
    },
    {
      "cell_type": "code",
      "source": [
        "#ejercicio 6\n",
        "mediaejcinco = np.sum(array_ejcinco)/len(array_ejcinco)\n",
        "print(mediaejcinco)"
      ],
      "metadata": {
        "colab": {
          "base_uri": "https://localhost:8080/"
        },
        "id": "P4oQIV42hfe7",
        "outputId": "9cd54e7b-419e-47d1-b9a7-8e9ed51b7019"
      },
      "execution_count": null,
      "outputs": [
        {
          "output_type": "stream",
          "name": "stdout",
          "text": [
            "0.48739793231473194\n"
          ]
        }
      ]
    },
    {
      "cell_type": "code",
      "source": [
        "#ejercicio 7\n",
        "varianzaejcinco = np.sum((array_ejcinco - np.mean(array_ejcinco))**2)/len(array_ejcinco)\n",
        "print(varianzaejcinco)"
      ],
      "metadata": {
        "colab": {
          "base_uri": "https://localhost:8080/"
        },
        "id": "mpyM6-1yh-ap",
        "outputId": "7bc25793-b30a-49ab-be73-4dfef736db21"
      },
      "execution_count": null,
      "outputs": [
        {
          "output_type": "stream",
          "name": "stdout",
          "text": [
            "0.09814504517726991\n"
          ]
        }
      ]
    },
    {
      "cell_type": "code",
      "source": [
        "#ejercicio 8\n",
        "array_ejocho = np.random.randn(2)\n",
        "print(array_ejocho)"
      ],
      "metadata": {
        "colab": {
          "base_uri": "https://localhost:8080/"
        },
        "id": "Fh569kCXiFRK",
        "outputId": "b809c885-5a23-4977-fa0a-ac818a9b933c"
      },
      "execution_count": null,
      "outputs": [
        {
          "output_type": "stream",
          "name": "stdout",
          "text": [
            "[ 0.26585187 -2.37599704]\n"
          ]
        }
      ]
    },
    {
      "cell_type": "markdown",
      "source": [],
      "metadata": {
        "id": "A2rwCajxiGgE"
      }
    }
  ]
}